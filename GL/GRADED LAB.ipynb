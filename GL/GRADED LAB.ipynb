{
 "cells": [
  {
   "cell_type": "code",
   "execution_count": 22,
   "id": "20620b3d",
   "metadata": {},
   "outputs": [
    {
     "name": "stdout",
     "output_type": "stream",
     "text": [
      "['A', 'B', 'C', 'D', 'E', 'F', 'G']\n"
     ]
    }
   ],
   "source": [
    "#BFS\n",
    "def BFS(graph,start,goal):\n",
    "    queue = []\n",
    "    expanded = []\n",
    "    if start not in expanded:\n",
    "        queue.append(start)\n",
    "    while queue != []:\n",
    "        deque = queue.pop(0)\n",
    "        expanded.append(deque)\n",
    "        if deque == goal:\n",
    "            print(expanded)\n",
    "            break;\n",
    "        \n",
    "        for neighbour in sorted(graph[deque]):\n",
    "            \n",
    "            if neighbour not in expanded:\n",
    "                queue.append(neighbour)\n",
    "        \n",
    "            \n",
    "graph = {\n",
    "    'A' : {'B','C'},\n",
    "    'B' : {'D','E'},\n",
    "    'D' : {}, 'E' : {},\n",
    "    'C' : {'F','G'},\n",
    "    'F' : {},'G':{}\n",
    "}\n",
    "start = 'A'\n",
    "goal = 'G'\n",
    "\n",
    "BFS(graph,start,goal)\n",
    "        "
   ]
  },
  {
   "cell_type": "code",
   "execution_count": 40,
   "id": "40828f20",
   "metadata": {},
   "outputs": [
    {
     "name": "stdout",
     "output_type": "stream",
     "text": [
      "['A', 'B', 'D', 'E', 'C', 'F', 'G']\n"
     ]
    }
   ],
   "source": [
    "#DFS\n",
    "def DFS(graph,start,goal):\n",
    "    stack = []\n",
    "    expanded = []\n",
    "    if start not in expanded:\n",
    "        stack.append(start)\n",
    "    while stack != []:\n",
    "        popped = stack.pop()\n",
    "        expanded.append(popped)\n",
    "        if popped == goal:\n",
    "            print(expanded)\n",
    "            break;\n",
    "        for neighbour in sorted(graph[popped], reverse=True):\n",
    "            if neighbour not in expanded:\n",
    "                stack.append(neighbour)\n",
    "        \n",
    "            \n",
    "graph = {\n",
    "    'A' : {'B','C'},\n",
    "    'B' : {'D','E'},\n",
    "    'D' : {}, 'E' : {},\n",
    "    'C' : {'F','G'},\n",
    "    'F' : {},'G':{}\n",
    "}\n",
    "start = 'A'\n",
    "goal = 'G'\n",
    "\n",
    "DFS(graph,start,goal)\n",
    "        "
   ]
  },
  {
   "cell_type": "code",
   "execution_count": null,
   "id": "298d7579",
   "metadata": {},
   "outputs": [],
   "source": []
  }
 ],
 "metadata": {
  "kernelspec": {
   "display_name": "Python 3 (ipykernel)",
   "language": "python",
   "name": "python3"
  },
  "language_info": {
   "codemirror_mode": {
    "name": "ipython",
    "version": 3
   },
   "file_extension": ".py",
   "mimetype": "text/x-python",
   "name": "python",
   "nbconvert_exporter": "python",
   "pygments_lexer": "ipython3",
   "version": "3.9.7"
  }
 },
 "nbformat": 4,
 "nbformat_minor": 5
}
