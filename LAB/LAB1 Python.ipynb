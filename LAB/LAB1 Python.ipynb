{
 "cells": [
  {
   "cell_type": "code",
   "execution_count": 44,
   "id": "7730b410",
   "metadata": {},
   "outputs": [
    {
     "name": "stdout",
     "output_type": "stream",
     "text": [
      "[10, 7, 5]\n"
     ]
    }
   ],
   "source": [
    "#EX 2.1\n",
    "def selection_sort(arr):\n",
    "     n = len(arr)\n",
    "     for i in range(n):\n",
    "         min_idx = i\n",
    "         for j in range(i+1, n):\n",
    "             if arr[i] < arr[j]:\n",
    "                min_idx = j\n",
    "                arr[i], arr[min_idx] = arr[j], arr[i]\n",
    "\n",
    "     return arr\n",
    "\n",
    "\n",
    "\n",
    "arr = [5,7,10]\n",
    "sorted = selection_sort(arr)\n",
    "print(sorted)"
   ]
  },
  {
   "cell_type": "code",
   "execution_count": 53,
   "id": "720ab0ff",
   "metadata": {},
   "outputs": [
    {
     "name": "stdout",
     "output_type": "stream",
     "text": [
      "Array:\n",
      "6 2 3 5 6 \n",
      "Sorted Array: \n",
      "2 3 5 6 6 \n"
     ]
    }
   ],
   "source": [
    "#EX 2.2\n",
    "def mergeSort(arr):\n",
    "    if len(arr) > 1:\n",
    "  \n",
    "        mid = len(arr)//2\n",
    "        L = arr[:mid]\n",
    "        R = arr[mid:]\n",
    "        mergeSort(L)\n",
    "        mergeSort(R)\n",
    "        i = j = k = 0\n",
    "        while i < len(L) and j < len(R):\n",
    "            if L[i] <= R[j]:\n",
    "                arr[k] = L[i]\n",
    "                i += 1\n",
    "            else:\n",
    "                arr[k] = R[j]\n",
    "                j += 1\n",
    "            k += 1\n",
    "  \n",
    "        while i < len(L):\n",
    "            arr[k] = L[i]\n",
    "            i += 1\n",
    "            k += 1\n",
    "  \n",
    "        while j < len(R):\n",
    "            arr[k] = R[j]\n",
    "            j += 1\n",
    "            k += 1\n",
    "  \n",
    "\n",
    "def printList(arr):\n",
    "    for i in range(len(arr)):\n",
    "        print(arr[i], end=\" \")\n",
    "    print()\n",
    "  \n",
    "\n",
    "arr = [6,2,3,5,6]\n",
    "print(\"Array:\", end=\"\\n\")\n",
    "printList(arr)\n",
    "mergeSort(arr)\n",
    "print(\"Sorted Array: \", end=\"\\n\")\n",
    "printList(arr)\n",
    "  "
   ]
  },
  {
   "cell_type": "code",
   "execution_count": 58,
   "id": "c2f41db3",
   "metadata": {},
   "outputs": [
    {
     "name": "stdout",
     "output_type": "stream",
     "text": [
      "Array:\n",
      "\n",
      "['M', 'O', 'H', 'S', 'I', 'N']\n",
      "Sorted Array:\n",
      "\n",
      "['H', 'I', 'M', 'N', 'O', 'S']\n"
     ]
    }
   ],
   "source": [
    "#EX 2.3\n",
    "\n",
    "#Bubble Sort\n",
    "def BubbleSort(arr):\n",
    "     n = len(arr)\n",
    "     for i in range(n):\n",
    "         for j in range(0, n-i-1):\n",
    "            if arr[j] > arr[j+1]:\n",
    "                arr[j], arr[j+1] = arr[j+1], arr[j]\n",
    "\n",
    "\n",
    "\n",
    "print(\"Array:\\n\")\n",
    "arr = ['M','O','H','S','I','N']\n",
    "print(arr)\n",
    "BubbleSort(arr)\n",
    "print(\"Sorted Array:\\n\")\n",
    "print(arr)\n"
   ]
  },
  {
   "cell_type": "code",
   "execution_count": 69,
   "id": "088e4044",
   "metadata": {},
   "outputs": [
    {
     "name": "stdout",
     "output_type": "stream",
     "text": [
      "Array:\n",
      "\n",
      "['M', 'O', 'H', 'S', 'I', 'N']\n",
      "Sorted Array:\n",
      "\n",
      "['H', 'I', 'M', 'N', 'O', 'S']\n"
     ]
    }
   ],
   "source": [
    "#EX 2.3\n",
    "\n",
    "#Selection Sort\n",
    "def SelectionSort(arr):\n",
    "    n = len(arr)\n",
    "    for i in range(n):\n",
    "         min_idx = i\n",
    "         for j in range(i+1, n):\n",
    "             if arr[i] > arr[j]:\n",
    "                min_idx = j\n",
    "                arr[i], arr[min_idx] = arr[j], arr[i]\n",
    "\n",
    "\n",
    "\n",
    "print(\"Array:\\n\")\n",
    "arr = ['M','O','H','S','I','N']\n",
    "print(arr, end=\"\\n\")\n",
    "SelectionSort(arr)\n",
    "print(\"Sorted Array:\\n\")\n",
    "print(arr)"
   ]
  },
  {
   "cell_type": "code",
   "execution_count": 73,
   "id": "68bdaf8e",
   "metadata": {},
   "outputs": [
    {
     "name": "stdout",
     "output_type": "stream",
     "text": [
      "Array:\n",
      "\n",
      "['M', 'O', 'H', 'S', 'I', 'N']\n",
      "Sorted Array:\n",
      "\n",
      "['H', 'I', 'M', 'N', 'O', 'S']\n"
     ]
    }
   ],
   "source": [
    "#EX 2.3\n",
    "\n",
    "#Insertion Sort\n",
    "def InsertionSort(arr):\n",
    "     for i in range(1, len(arr)):\n",
    "        key = arr[i]\n",
    "        j = i-1\n",
    "        while j >= 0 and key < arr[j] :\n",
    "                arr[j + 1] = arr[j]\n",
    "                j -= 1\n",
    "        arr[j + 1] = key\n",
    "\n",
    "\n",
    "\n",
    "print(\"Array:\\n\")\n",
    "arr = ['M','O','H','S','I','N']\n",
    "print(arr, end=\"\\n\")\n",
    "InsertionSort(arr)\n",
    "print(\"Sorted Array:\\n\")\n",
    "print(arr)"
   ]
  },
  {
   "cell_type": "code",
   "execution_count": 77,
   "id": "8e0fe4bc",
   "metadata": {},
   "outputs": [
    {
     "name": "stdout",
     "output_type": "stream",
     "text": [
      "Array:\n",
      "\n",
      "['M', 'O', 'H', 'S', 'I', 'N']\n",
      "Sorted Array:\n",
      "\n",
      "['H', 'I', 'M', 'N', 'O', 'S']\n"
     ]
    }
   ],
   "source": [
    "#EX 2.3\n",
    "\n",
    "# Merge Sort\n",
    "def MergeSort(arr):\n",
    "     if len(arr) > 1:\n",
    "  \n",
    "        mid = len(arr)//2\n",
    "        L = arr[:mid]\n",
    "        R = arr[mid:]\n",
    "        mergeSort(L)\n",
    "        mergeSort(R)\n",
    "        i = j = k = 0\n",
    "        while i < len(L) and j < len(R):\n",
    "            if L[i] <= R[j]:\n",
    "                arr[k] = L[i]\n",
    "                i += 1\n",
    "            else:\n",
    "                arr[k] = R[j]\n",
    "                j += 1\n",
    "            k += 1\n",
    "  \n",
    "        while i < len(L):\n",
    "            arr[k] = L[i]\n",
    "            i += 1\n",
    "            k += 1\n",
    "  \n",
    "        while j < len(R):\n",
    "            arr[k] = R[j]\n",
    "            j += 1\n",
    "            k += 1\n",
    "\n",
    "\n",
    "\n",
    "print(\"Array:\\n\")\n",
    "arr = ['M','O','H','S','I','N']\n",
    "print(arr, end=\"\\n\")\n",
    "MergeSort(arr)\n",
    "print(\"Sorted Array:\\n\")\n",
    "print(arr)"
   ]
  },
  {
   "cell_type": "code",
   "execution_count": 4,
   "id": "3c86cf02",
   "metadata": {},
   "outputs": [
    {
     "name": "stdout",
     "output_type": "stream",
     "text": [
      "Sorted Array:\n",
      "\n",
      "[2, 2, 4, 4, 4]\n",
      "\n",
      "\n",
      "Sum of Array = 16\n",
      "Mean = 3.2\n",
      "Median = 4\n",
      "Mod = 4\n"
     ]
    }
   ],
   "source": [
    "#Find mean, median, mode\n",
    "def BubbleSort(arr):\n",
    "     n = len(arr)\n",
    "     for i in range(n):\n",
    "         for j in range(0, n-i-1):\n",
    "            if arr[j] > arr[j+1]:\n",
    "                arr[j], arr[j+1] = arr[j+1], arr[j]\n",
    "\n",
    "\n",
    "arr = [2,2,4,4,4]\n",
    "size = len(arr)\n",
    "BubbleSort(arr)\n",
    "sum = 0\n",
    "for i in range(size):\n",
    "    sum = sum + arr[i]\n",
    "    \n",
    "mean = sum/size\n",
    "mid = size//2\n",
    " \n",
    "if size % 2 == 0:\n",
    "    median = (arr[mid-1] + arr[mid]) / 2\n",
    "else:\n",
    "    median =  arr[mid]\n",
    "print(\"Sorted Array:\\n\")\n",
    "print(arr)\n",
    "print(\"\\n\")\n",
    "print(\"Sum of Array =\",sum)\n",
    "print(\"Mean =\",mean)\n",
    "print(\"Median =\",median)\n",
    "count = 0\n",
    "pricount = 0\n",
    "mod = 0\n",
    "for i in range(size):\n",
    "    for j in range(i+1,size):\n",
    "        if arr[i] == arr[j]:\n",
    "            count=count+1\n",
    "        else:\n",
    "            count=0\n",
    "    if count > pricount:\n",
    "        pricount = count\n",
    "        mod = arr[i]\n",
    "    \n",
    "print(\"Mod =\",mod)\n",
    "\n",
    "\n",
    "    "
   ]
  },
  {
   "cell_type": "code",
   "execution_count": 115,
   "id": "fd0a204e",
   "metadata": {},
   "outputs": [
    {
     "name": "stdout",
     "output_type": "stream",
     "text": [
      "12\n",
      "3\n"
     ]
    }
   ],
   "source": [
    "# Write a function duplicate to find all duplicates in the list. \n",
    "def duplicate(arr):\n",
    "    for i in range(size):\n",
    "        for j in range(i+1,size):\n",
    "            if arr[i] == arr[j]:\n",
    "                print(arr[i])\n",
    "            else:\n",
    "                count=0\n",
    "    \n",
    "\n",
    "arr = [5,12,12,3,3]\n",
    "duplicate(arr)"
   ]
  },
  {
   "cell_type": "code",
   "execution_count": 13,
   "id": "dd3931d6",
   "metadata": {},
   "outputs": [
    {
     "name": "stdout",
     "output_type": "stream",
     "text": [
      "The first three elements of c\n",
      "2\n",
      "2\n",
      "4\n",
      "The last element of d without using its length\n",
      "9\n",
      "The length of d\n",
      "10\n"
     ]
    }
   ],
   "source": [
    "# Ex 2.6\n",
    "def BubbleSort(arr):\n",
    "     n = len(arr)\n",
    "     for i in range(n):\n",
    "         for j in range(0, n-i-1):\n",
    "            if arr[j] > arr[j+1]:\n",
    "                arr[j], arr[j+1] = arr[j+1], arr[j]\n",
    "                return arr\n",
    "                \n",
    "a = [1,3,5]\n",
    "b = [2,4,6]\n",
    "c =a+b\n",
    "temp =c\n",
    "d= BubbleSort(temp)\n",
    "d.reverse()\n",
    "c[3]=42\n",
    "d.append(10)\n",
    "c.append(7)\n",
    "c.append(8)\n",
    "c.append(9)\n",
    "print(\"The first three elements of c\")\n",
    "for i in range(3):\n",
    "    print(arr[i])\n",
    "print(\"The last element of d without using its length\")\n",
    "print(c[-1])\n",
    "print(\"The length of d\")\n",
    "print(len(d))\n",
    "\n",
    "\n",
    "\n"
   ]
  },
  {
   "cell_type": "code",
   "execution_count": 16,
   "id": "9ed53185",
   "metadata": {},
   "outputs": [
    {
     "name": "stdout",
     "output_type": "stream",
     "text": [
      "13\n",
      "[33, 43]\n"
     ]
    }
   ],
   "source": [
    "# Ex 2.7\n",
    "\n",
    "a = [(4,), (23, 13), (34, 54, 64)]\n",
    "print(a[1][1])\n",
    "b = [[21, 12, 33, 43], [55,46, 67, 58], [93, 20, 31, 12], [18, 34, 85, 86]]\n",
    "print(b[0][-2:])\n"
   ]
  },
  {
   "cell_type": "code",
   "execution_count": 20,
   "id": "30098766",
   "metadata": {},
   "outputs": [
    {
     "name": "stdout",
     "output_type": "stream",
     "text": [
      "[['January', [[], [], [], []]], ['February', [[], [], [], []]], ['March', [[], [], [], []]], ['April', [[], [], [], []]], ['May', [[], [], [], []]], ['June', [[], [], [], []]], ['July', [[], [], [], []]], ['August', [[], [], [], []]], ['September', [[], [], [], []]], ['October', [[], [], [], []]], ['November', [[], [], [], []]], ['December', [[], [], [], []]]]\n"
     ]
    }
   ],
   "source": [
    "# Ex 2.8\n",
    "month_names = ['January', 'February', 'March', 'April', 'May', 'June', 'July', 'August', 'September', 'October', 'November', 'December']\n",
    "calendar = []\n",
    "for month in month_names:\n",
    "    weeks = []\n",
    "    for i in range(1, 5):\n",
    "        week = []\n",
    "        weeks.append(week)\n",
    "    calendar.append([month, weeks])\n",
    "\n",
    "print(calendar, end=\"\\n\")"
   ]
  },
  {
   "cell_type": "code",
   "execution_count": 21,
   "id": "52ddf7cd",
   "metadata": {},
   "outputs": [
    {
     "name": "stdout",
     "output_type": "stream",
     "text": [
      "[{'Month': 'January', 'Month_Number': 1, 'Weeks': [{'Week': 'Week 1', 'Events': []}, {'Week': 'Week 2', 'Events': []}, {'Week': 'Week 3', 'Events': []}, {'Week': 'Week 4', 'Events': []}]}, {'Month': 'February', 'Month_Number': 2, 'Weeks': [{'Week': 'Week 1', 'Events': []}, {'Week': 'Week 2', 'Events': []}, {'Week': 'Week 3', 'Events': []}, {'Week': 'Week 4', 'Events': []}]}, {'Month': 'March', 'Month_Number': 3, 'Weeks': [{'Week': 'Week 1', 'Events': []}, {'Week': 'Week 2', 'Events': []}, {'Week': 'Week 3', 'Events': []}, {'Week': 'Week 4', 'Events': []}]}, {'Month': 'April', 'Month_Number': 4, 'Weeks': [{'Week': 'Week 1', 'Events': []}, {'Week': 'Week 2', 'Events': []}, {'Week': 'Week 3', 'Events': []}, {'Week': 'Week 4', 'Events': []}]}, {'Month': 'May', 'Month_Number': 5, 'Weeks': [{'Week': 'Week 1', 'Events': []}, {'Week': 'Week 2', 'Events': []}, {'Week': 'Week 3', 'Events': []}, {'Week': 'Week 4', 'Events': []}]}, {'Month': 'June', 'Month_Number': 6, 'Weeks': [{'Week': 'Week 1', 'Events': []}, {'Week': 'Week 2', 'Events': []}, {'Week': 'Week 3', 'Events': []}, {'Week': 'Week 4', 'Events': []}]}, {'Month': 'July', 'Month_Number': 7, 'Weeks': [{'Week': 'Week 1', 'Events': ['Summer vacation']}, {'Week': 'Week 2', 'Events': []}, {'Week': 'Week 3', 'Events': []}, {'Week': 'Week 4', 'Events': []}]}, {'Month': 'August', 'Month_Number': 8, 'Weeks': [{'Week': 'Week 1', 'Events': []}, {'Week': 'Week 2', 'Events': []}, {'Week': 'Week 3', 'Events': []}, {'Week': 'Week 4', 'Events': []}]}, {'Month': 'September', 'Month_Number': 9, 'Weeks': [{'Week': 'Week 1', 'Events': []}, {'Week': 'Week 2', 'Events': []}, {'Week': 'Week 3', 'Events': []}, {'Week': 'Week 4', 'Events': []}]}, {'Month': 'October', 'Month_Number': 10, 'Weeks': [{'Week': 'Week 1', 'Events': []}, {'Week': 'Week 2', 'Events': []}, {'Week': 'Week 3', 'Events': []}, {'Week': 'Week 4', 'Events': []}]}, {'Month': 'November', 'Month_Number': 11, 'Weeks': [{'Week': 'Week 1', 'Events': []}, {'Week': 'Week 2', 'Events': []}, {'Week': 'Week 3', 'Events': []}, {'Week': 'Week 4', 'Events': []}]}, {'Month': 'December', 'Month_Number': 12, 'Weeks': [{'Week': 'Week 1', 'Events': []}, {'Week': 'Week 2', 'Events': []}, {'Week': 'Week 3', 'Events': []}, {'Week': 'Week 4', 'Events': []}]}]\n"
     ]
    }
   ],
   "source": [
    "\n",
    "month_dict = {\n",
    "    'January': 1,\n",
    "    'February': 2,\n",
    "    'March': 3,\n",
    "    'April': 4,\n",
    "    'May': 5,\n",
    "    'June': 6,\n",
    "    'July': 7,\n",
    "    'August': 8,\n",
    "    'September': 9,\n",
    "    'October': 10,\n",
    "    'November': 11,\n",
    "    'December': 12,\n",
    "    }\n",
    "calendar = []\n",
    "for month_name in month_dict:\n",
    "    weeks = []\n",
    "    for i in range(1, 5):\n",
    "        week_name = 'Week ' + str(i)\n",
    "        week = {'Week': week_name, 'Events': []}\n",
    "        weeks.append(week)\n",
    "    month = {'Month': month_name,\n",
    "             'Month_Number': month_dict[month_name], 'Weeks': weeks}\n",
    "    calendar.append(month)\n",
    "\n",
    "july_index = month_dict['July'] - 1\n",
    "week_index = 1 - 1\n",
    "event = 'Summer vacation'\n",
    "calendar[july_index]['Weeks'][week_index]['Events'].append(event)\n",
    "print calendar\n"
   ]
  }
 ],
 "metadata": {
  "kernelspec": {
   "display_name": "Python 3 (ipykernel)",
   "language": "python",
   "name": "python3"
  },
  "language_info": {
   "codemirror_mode": {
    "name": "ipython",
    "version": 3
   },
   "file_extension": ".py",
   "mimetype": "text/x-python",
   "name": "python",
   "nbconvert_exporter": "python",
   "pygments_lexer": "ipython3",
   "version": "3.9.7"
  }
 },
 "nbformat": 4,
 "nbformat_minor": 5
}
